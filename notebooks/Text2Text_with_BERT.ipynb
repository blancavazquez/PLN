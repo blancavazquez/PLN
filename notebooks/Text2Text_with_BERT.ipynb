{
  "nbformat": 4,
  "nbformat_minor": 0,
  "metadata": {
    "colab": {
      "provenance": [],
      "authorship_tag": "ABX9TyMxnfR6VmHnQpP8BZnFdDDp",
      "include_colab_link": true
    },
    "kernelspec": {
      "name": "python3",
      "display_name": "Python 3"
    },
    "language_info": {
      "name": "python"
    }
  },
  "cells": [
    {
      "cell_type": "markdown",
      "metadata": {
        "id": "view-in-github",
        "colab_type": "text"
      },
      "source": [
        "<a href=\"https://colab.research.google.com/github/blancavazquez/PLN/blob/main/notebooks/Text2Text_with_BERT.ipynb\" target=\"_parent\"><img src=\"https://colab.research.google.com/assets/colab-badge.svg\" alt=\"Open In Colab\"/></a>"
      ]
    },
    {
      "cell_type": "code",
      "execution_count": null,
      "metadata": {
        "id": "Crg98zu4PbFP"
      },
      "outputs": [],
      "source": [
        "#Instalamos la biblioteca de transformer\n",
        "!pip install transformers"
      ]
    },
    {
      "cell_type": "code",
      "source": [
        "#Importar y cargar el modelo\n",
        "\n",
        "import torch\n",
        "from transformers import AutoTokenizer, AutoModelForSeq2SeqLM\n",
        "\n",
        "model_name = \"google/flan-t5-small\" #\"google-t5/t5-base\"\n",
        "tokenizer = AutoTokenizer.from_pretrained(model_name)\n",
        "model = AutoModelForSeq2SeqLM.from_pretrained(model_name)\n",
        "\n",
        "device = torch.device('cuda' if torch.cuda.is_available() else 'cpu')\n",
        "model = model.to(device)"
      ],
      "metadata": {
        "id": "6ePvPQPBPqJM"
      },
      "execution_count": null,
      "outputs": []
    },
    {
      "cell_type": "code",
      "source": [
        "#Carga la función generate_text\n",
        "def generate_text(task_prefix, input_text, max_length=64, num_beams=4):\n",
        "    prompt = f\"{task_prefix}: {input_text}\"\n",
        "    inputs = tokenizer(prompt, return_tensors=\"pt\").to(device)\n",
        "    output_ids = model.generate(\n",
        "        **inputs,\n",
        "        max_length=max_length,\n",
        "        num_beams=num_beams,\n",
        "        early_stopping=True,\n",
        "        no_repeat_ngram_size=2\n",
        "    )\n",
        "    return tokenizer.decode(output_ids[0], skip_special_tokens=True)"
      ],
      "metadata": {
        "id": "3BOf3wXPPzol"
      },
      "execution_count": null,
      "outputs": []
    },
    {
      "cell_type": "markdown",
      "source": [
        "## Translation task"
      ],
      "metadata": {
        "id": "e30i2txNQRmg"
      }
    },
    {
      "cell_type": "code",
      "source": [
        "translation = generate_text(\n",
        "    task_prefix=\"translate english to french\",\n",
        "    input_text=\"The Universidad Nacional Autónoma de México, UNAM is a public research university in Mexico, it has several campuses in Mexico City, and many others in various locations across Mexico, as well as a presence in nine countries.\"\n",
        ")\n",
        "print(translation)"
      ],
      "metadata": {
        "id": "BntQp_fuQYhz"
      },
      "execution_count": null,
      "outputs": []
    },
    {
      "cell_type": "markdown",
      "source": [
        "## Paraphrasing"
      ],
      "metadata": {
        "id": "Z5WQw8uDQ39n"
      }
    },
    {
      "cell_type": "code",
      "source": [
        "paraphrase = generate_text(\n",
        "    task_prefix=\"paraphrase\",\n",
        "    input_text=\"It also has 34 research institutes, 26 museums, and 18 historic sites, with more than 324,413 students, UNAM is one of the world's largest universities.\"\n",
        ")\n",
        "print(paraphrase)"
      ],
      "metadata": {
        "id": "kL4MUvquQ48t"
      },
      "execution_count": null,
      "outputs": []
    },
    {
      "cell_type": "markdown",
      "source": [
        "## Question-Generation"
      ],
      "metadata": {
        "id": "20YgSko9RAaJ"
      }
    },
    {
      "cell_type": "code",
      "source": [
        "question = generate_text(\n",
        "    task_prefix=\"generate question\",\n",
        "    input_text=\"UNAM has excelled in many areas of research. For instance, it was recognized by UNESCO as producing globally some of the most impactful research on Artificial Intelligence. It has also consistently secured top positions in the international robotics competition RoboCup, often claiming first places. The university houses many of Mexico's premiere research institutions. UNAM is currently recognized as one of the most international research universities in Latin America..\"\n",
        ")\n",
        "print(question)"
      ],
      "metadata": {
        "id": "xPI3hTYgRBd-"
      },
      "execution_count": null,
      "outputs": []
    },
    {
      "cell_type": "markdown",
      "source": [
        "## Sentiment Analysis"
      ],
      "metadata": {
        "id": "-N-aS9BPRYff"
      }
    },
    {
      "cell_type": "code",
      "source": [
        "result = generate_text(\n",
        "    task_prefix= \"sentiment-analysis\",\n",
        "    input_text=\"I had an amazing experience with the new smartphone\"\n",
        ")\n",
        "print(result)"
      ],
      "metadata": {
        "id": "Lh0stGHfRZZG"
      },
      "execution_count": null,
      "outputs": []
    },
    {
      "cell_type": "markdown",
      "source": [
        "## Summarization task"
      ],
      "metadata": {
        "id": "JDOPSNg9QABP"
      }
    },
    {
      "cell_type": "code",
      "source": [
        "summary = generate_text(\n",
        "    task_prefix=\"summarize\",\n",
        "    input_text=\"The Universidad Nacional Autónoma de México, UNAM is a public research university in Mexico. It has several campuses in Mexico City, and many others in various locations across Mexico, as well as a presence in nine countries. It also has 34 research institutes, 26 museums, and 18 historic sites.[10][11][12] With more than 324,413 students, UNAM is one of the world's largest universities.[13]\"\n",
        ")\n",
        "print(summary)"
      ],
      "metadata": {
        "id": "_70i1dEZPkc2"
      },
      "execution_count": null,
      "outputs": []
    }
  ]
}