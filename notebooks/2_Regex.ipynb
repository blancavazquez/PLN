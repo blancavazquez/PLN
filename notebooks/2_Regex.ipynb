{
  "nbformat": 4,
  "nbformat_minor": 0,
  "metadata": {
    "colab": {
      "provenance": [],
      "authorship_tag": "ABX9TyOpcf26jAvJOL3UlGoxVHLq",
      "include_colab_link": true
    },
    "kernelspec": {
      "name": "python3",
      "display_name": "Python 3"
    },
    "language_info": {
      "name": "python"
    }
  },
  "cells": [
    {
      "cell_type": "markdown",
      "metadata": {
        "id": "view-in-github",
        "colab_type": "text"
      },
      "source": [
        "<a href=\"https://colab.research.google.com/github/blancavazquez/PLN/blob/main/notebooks/2_Regex.ipynb\" target=\"_parent\"><img src=\"https://colab.research.google.com/assets/colab-badge.svg\" alt=\"Open In Colab\"/></a>"
      ]
    },
    {
      "cell_type": "markdown",
      "source": [
        "# 1.2 Expresiones regulares (regex)\n",
        "\n",
        "El objetivo de esta libreta es estudiar los componentes de una expresión regular: metacaracteres y literales\n",
        "\n",
        "\n",
        "* Una **Regex**, o expresión regular, es una secuencia de caracteres que forma un patrón de búsqueda.\n",
        "* **import re**: es un módulo de Python para trabajar con regex\n",
        "* **findall**: Devuelve una lista de todas las coincidencias de patrones que ocurren en una cadena determinada."
      ],
      "metadata": {
        "id": "T-V0ZSIR7mC0"
      }
    },
    {
      "cell_type": "markdown",
      "source": [
        "## Metacaracteres\n",
        "\n",
        "Los metacaracteres son **caracteres** los cuales son interpretados de manera especial por los motores de expresiones regulares. A continuación, se muestra una lista de metacaracteres:\n",
        "\n",
        "[] . ^ $ * + ? {} () \\ |"
      ],
      "metadata": {
        "id": "f1WeUJL2FGy3"
      }
    },
    {
      "cell_type": "code",
      "source": [
        "import re #Módulo para trabajar con expresiones regulares en Python"
      ],
      "metadata": {
        "id": "74aOPyPO-lC8"
      },
      "execution_count": null,
      "outputs": []
    },
    {
      "cell_type": "code",
      "source": [
        "\"\"\"\n",
        "Signo de . (punto): \tSe utiliza para buscar cualquier carácter individual.\n",
        "\"\"\"\n",
        "texto = \"Hola mundo\"\n",
        "x = re.findall(\".o\", texto)\n",
        "print(x)\n",
        "if x:\n",
        "  print(\"El patrón se encuentra en el texto\")\n",
        "else:\n",
        "  print(\"Patrón no encontrado\")"
      ],
      "metadata": {
        "colab": {
          "base_uri": "https://localhost:8080/"
        },
        "id": "Q5lLITjFEW15",
        "outputId": "d9d02711-fbc2-4deb-fb0e-759fc66e5344"
      },
      "execution_count": null,
      "outputs": [
        {
          "output_type": "stream",
          "name": "stdout",
          "text": [
            "['Ho', 'do']\n",
            "El patrón se encuentra en el texto\n"
          ]
        }
      ]
    },
    {
      "cell_type": "code",
      "source": [
        "\"\"\"\n",
        "Signo de * (asterisco): \tSe utiliza para coincidir con cero o más ocurrencias del patrón.\n",
        "\"\"\"\n",
        "texto = \"man maaan mn\"\n",
        "x = re.findall(\"ma*n\", texto)\n",
        "print(x)\n",
        "if x:\n",
        "  print(\"El patrón se encuentra en el texto\")\n",
        "else:\n",
        "  print(\"Patrón no encontrado\")"
      ],
      "metadata": {
        "colab": {
          "base_uri": "https://localhost:8080/"
        },
        "id": "6Diawj9yGngI",
        "outputId": "d1b21528-c64e-4109-965d-c307d52a5cd6"
      },
      "execution_count": null,
      "outputs": [
        {
          "output_type": "stream",
          "name": "stdout",
          "text": [
            "['man', 'maaan', 'mn']\n",
            "El patrón se encuentra en el texto\n"
          ]
        }
      ]
    },
    {
      "cell_type": "code",
      "source": [
        "\"\"\"\n",
        "Signo de + (más): \tSe utiliza para coincidir con una o más ocurrencias del patrón.\n",
        "\"\"\"\n",
        "texto = \"man maaan mn\"\n",
        "x = re.findall(\"ma+n\", texto)\n",
        "print(x)\n",
        "if x:\n",
        "  print(\"El patrón se encuentra en el texto\")\n",
        "else:\n",
        "  print(\"Patrón no encontrado\")"
      ],
      "metadata": {
        "colab": {
          "base_uri": "https://localhost:8080/"
        },
        "id": "PrVQAVvwIUOg",
        "outputId": "da112ee0-6c5f-4260-aab4-276dcd1c907f"
      },
      "execution_count": null,
      "outputs": [
        {
          "output_type": "stream",
          "name": "stdout",
          "text": [
            "['man', 'maaan']\n",
            "El patrón se encuentra en el texto\n"
          ]
        }
      ]
    },
    {
      "cell_type": "code",
      "source": [
        "\"\"\"\n",
        "Signo de ? (interrogación)): \tSe utiliza para coincidir con cero o una ocurrencia del patrón.\n",
        "\"\"\"\n",
        "texto = \"man maaan mn\"\n",
        "x = re.findall(\"ma?n\", texto)\n",
        "print(x)\n",
        "if x:\n",
        "  print(\"El patrón se encuentra en el texto\")\n",
        "else:\n",
        "  print(\"Patrón no encontrado\")"
      ],
      "metadata": {
        "colab": {
          "base_uri": "https://localhost:8080/"
        },
        "id": "DGaLJO1VIwDk",
        "outputId": "43085e55-e890-49a9-876c-90977763e531"
      },
      "execution_count": null,
      "outputs": [
        {
          "output_type": "stream",
          "name": "stdout",
          "text": [
            "['man', 'mn']\n",
            "El patrón se encuentra en el texto\n"
          ]
        }
      ]
    },
    {
      "cell_type": "code",
      "source": [
        "\"\"\"\n",
        "Signo de ^ (acento circunflejo): \tSe utiliza para comprobar si una cadena comienza con un determinado carácter.\n",
        "\"\"\"\n",
        "texto = \"Alba come manzanas\" #\"La tierra es verde\"\n",
        "x = re.findall(\"^A\", texto)\n",
        "print(x)\n",
        "if x:\n",
        "  print(\"El patrón se encuentra en el texto\")\n",
        "else:\n",
        "  print(\"Patrón no encontrado\")"
      ],
      "metadata": {
        "colab": {
          "base_uri": "https://localhost:8080/"
        },
        "id": "TJjtiXykB5hS",
        "outputId": "1433d141-fd94-4262-ee28-cb3c98ca6198"
      },
      "execution_count": null,
      "outputs": [
        {
          "output_type": "stream",
          "name": "stdout",
          "text": [
            "['A']\n",
            "El patrón se encuentra en el texto\n"
          ]
        }
      ]
    },
    {
      "cell_type": "code",
      "execution_count": null,
      "metadata": {
        "colab": {
          "base_uri": "https://localhost:8080/"
        },
        "id": "wLpsWibC7jkM",
        "outputId": "684fb33e-459d-4994-deb3-7432dd1ac731"
      },
      "outputs": [
        {
          "output_type": "stream",
          "name": "stdout",
          "text": [
            "['s']\n",
            "El patrón se encuentra en el texto\n"
          ]
        }
      ],
      "source": [
        "\"\"\"\n",
        "Signo de $: \tLimita la búsqueda al final de una línea.\n",
        "\"\"\"\n",
        "texto = \"tres tristes tigres \\nPepe pica papas\"\n",
        "x = re.findall(\"s$\", texto)\n",
        "print(x)\n",
        "if x:\n",
        "  print(\"El patrón se encuentra en el texto\")\n",
        "else:\n",
        "  print(\"Patrón no encontrado\")"
      ]
    },
    {
      "cell_type": "code",
      "source": [
        "\"\"\"\n",
        "Signo de \\ (diagonal invertida): \tSe utiliza para escapar varios caracteres, incluidos todos los metacaracteres.\n",
        "\"\"\"\n",
        "texto = \"abcde a$a\"\n",
        "\n",
        "x = re.findall(\"\\$a\", texto) #busca si una cadena contiene $ seguido de un a\n",
        "                              #$ no es interpretado como una regex.\n",
        "print(x)\n",
        "if x:\n",
        "  print(\"El patrón se encuentra en el texto\")\n",
        "else:\n",
        "  print(\"Patrón no encontrado\")"
      ],
      "metadata": {
        "colab": {
          "base_uri": "https://localhost:8080/"
        },
        "id": "8asGX-6ICXjb",
        "outputId": "dd88141b-2355-4b1f-b0da-95ae6ccf3886"
      },
      "execution_count": null,
      "outputs": [
        {
          "output_type": "stream",
          "name": "stdout",
          "text": [
            "['$a']\n",
            "El patrón se encuentra en el texto\n"
          ]
        }
      ]
    },
    {
      "cell_type": "code",
      "source": [
        "\"\"\"\n",
        "Signo de | (tubería): \tSe utiliza para alternancia.\n",
        "\"\"\"\n",
        "texto = \"Los meses de mayo y junio hace mucho calor en Mérida\"\n",
        "\n",
        "x = re.findall(\"mayo|Oaxaca\", texto)\n",
        "print(x)\n",
        "if x:\n",
        "  print(\"El patrón se encuentra en el texto\")\n",
        "else:\n",
        "  print(\"Patrón no encontrado\")"
      ],
      "metadata": {
        "colab": {
          "base_uri": "https://localhost:8080/"
        },
        "id": "OFumCM26FzSu",
        "outputId": "9d2e2e80-c347-485a-ece4-039b749561f9"
      },
      "execution_count": null,
      "outputs": [
        {
          "output_type": "stream",
          "name": "stdout",
          "text": [
            "['mayo']\n",
            "El patrón se encuentra en el texto\n"
          ]
        }
      ]
    },
    {
      "cell_type": "code",
      "source": [
        "\"\"\"\n",
        "Signo de {} (llaves): \tSe utiliza para buscar coincidencia entre m y n veces.\n",
        "\"\"\"\n",
        "texto = \"abc abc daat aabc daaaat\"\n",
        "\n",
        "x = re.findall(\"a{2,3}\", texto)\n",
        "print(x)\n",
        "if x:\n",
        "  print(\"El patrón se encuentra en el texto\")\n",
        "else:\n",
        "  print(\"Patrón no encontrado\")"
      ],
      "metadata": {
        "colab": {
          "base_uri": "https://localhost:8080/"
        },
        "id": "8tQwKhpmKqA3",
        "outputId": "b871612c-2029-41a7-a1ac-2ae4b485cbf0"
      },
      "execution_count": null,
      "outputs": [
        {
          "output_type": "stream",
          "name": "stdout",
          "text": [
            "['aa', 'aa', 'aaa']\n",
            "El patrón se encuentra en el texto\n"
          ]
        }
      ]
    },
    {
      "cell_type": "code",
      "source": [
        "\"\"\"\n",
        "Signo de {} (llaves) continúa: \tSe utiliza para buscar coincidencia entre m y n veces.\n",
        "\"\"\"\n",
        "texto = \"ab123csde 12 and 345673 1 and 2\"\n",
        "\n",
        "x = re.findall(\"[0-9]{2,4}\", texto)\n",
        "print(x)\n",
        "if x:\n",
        "  print(\"El patrón se encuentra en el texto\")\n",
        "else:\n",
        "  print(\"Patrón no encontrado\")"
      ],
      "metadata": {
        "colab": {
          "base_uri": "https://localhost:8080/"
        },
        "id": "X8KAih43Mc6F",
        "outputId": "db02b566-49aa-4c55-86b4-0d9b93442440"
      },
      "execution_count": null,
      "outputs": [
        {
          "output_type": "stream",
          "name": "stdout",
          "text": [
            "['123', '12', '3456', '73']\n",
            "El patrón se encuentra en el texto\n"
          ]
        }
      ]
    },
    {
      "cell_type": "code",
      "source": [
        "\"\"\"\n",
        "Signo de [] (corchetes): \tEspecifican un conjunto de caracteres que se desean hacer coincidir.\n",
        "\"\"\"\n",
        "texto = \"HeyJude abcdeca abcisa\"\n",
        "\n",
        "x = re.findall(\"[abc]\", texto) #si la cadena que intenta hacer coincidir contiene cualquiera de las letras a, b o c.\n",
        "print(x)\n",
        "if x:\n",
        "  print(\"El patrón se encuentra en el texto\")\n",
        "else:\n",
        "  print(\"Patrón no encontrado\")"
      ],
      "metadata": {
        "colab": {
          "base_uri": "https://localhost:8080/"
        },
        "id": "dbYHmIvKFtrH",
        "outputId": "69f5272c-acd9-4fe2-aecc-aa440df94e23"
      },
      "execution_count": null,
      "outputs": [
        {
          "output_type": "stream",
          "name": "stdout",
          "text": [
            "['a', 'b', 'c', 'c', 'a', 'a', 'b', 'c', 'a']\n",
            "El patrón se encuentra en el texto\n"
          ]
        }
      ]
    },
    {
      "cell_type": "code",
      "source": [
        "\"\"\"\n",
        "Signo de [] (corchetes) continúa: \tEspecifican un conjunto de caracteres que se desean hacer coincidir.\n",
        "\"\"\"\n",
        "texto = \"HeyJude abcdeca abcisa\"\n",
        "\n",
        "x = re.findall(\"[^abc]\", texto) #significa cualquier carácter excepto a o b o c.\n",
        "print(x)\n",
        "if x:\n",
        "  print(\"El patrón se encuentra en el texto\")\n",
        "else:\n",
        "  print(\"Patrón no encontrado\")"
      ],
      "metadata": {
        "colab": {
          "base_uri": "https://localhost:8080/"
        },
        "id": "y2gm89aZNy-U",
        "outputId": "eac49532-d1ef-40ec-c753-c1bc4f14d8dd"
      },
      "execution_count": null,
      "outputs": [
        {
          "output_type": "stream",
          "name": "stdout",
          "text": [
            "['H', 'e', 'y', 'J', 'u', 'd', 'e', ' ', 'd', 'e', ' ', 'i', 's']\n",
            "El patrón se encuentra en el texto\n"
          ]
        }
      ]
    },
    {
      "cell_type": "code",
      "source": [
        "\"\"\"\n",
        "Signo de [] (corchetes) continúa: \tEspecifican un conjunto de caracteres que se desean hacer coincidir.\n",
        "\"\"\"\n",
        "texto = \"HeyJude abcdeca abcisa 2025\"\n",
        "\n",
        "x = re.findall(\"[^0-9]\", texto) #significa cualquier carácter que no sea un dígito.\n",
        "print(x)\n",
        "if x:\n",
        "  print(\"El patrón se encuentra en el texto\")\n",
        "else:\n",
        "  print(\"Patrón no encontrado\")"
      ],
      "metadata": {
        "colab": {
          "base_uri": "https://localhost:8080/"
        },
        "id": "kRXX2mzXOQrG",
        "outputId": "7ed67ff7-ee31-47d1-95ff-3ab3725bf6d3"
      },
      "execution_count": null,
      "outputs": [
        {
          "output_type": "stream",
          "name": "stdout",
          "text": [
            "['H', 'e', 'y', 'J', 'u', 'd', 'e', ' ', 'a', 'b', 'c', 'd', 'e', 'c', 'a', ' ', 'a', 'b', 'c', 'i', 's', 'a', ' ']\n",
            "El patrón se encuentra en el texto\n"
          ]
        }
      ]
    },
    {
      "cell_type": "code",
      "source": [
        "\"\"\"\n",
        "Signo de () (paréntesis): \tSe usan para agrupar subpatrones.\n",
        "\"\"\"\n",
        "texto = \"ab xz abxz axz cabxz\"\n",
        "\n",
        "x = re.findall(\"(a|b|c)xz\", texto) #cualquier cadena que coincida con a, b o c seguida de xz..\n",
        "print(x)\n",
        "if x:\n",
        "  print(\"El patrón se encuentra en el texto\")\n",
        "else:\n",
        "  print(\"Patrón no encontrado\")"
      ],
      "metadata": {
        "colab": {
          "base_uri": "https://localhost:8080/"
        },
        "id": "29EvoGW6OgVl",
        "outputId": "019bfd3f-3b43-48d2-b7a0-1f091d4dbee1"
      },
      "execution_count": null,
      "outputs": [
        {
          "output_type": "stream",
          "name": "stdout",
          "text": [
            "['b', 'a', 'b']\n",
            "El patrón se encuentra en el texto\n"
          ]
        }
      ]
    },
    {
      "cell_type": "markdown",
      "source": [
        "# Secuencias especiales\n",
        "\n",
        "Las secuencias especiales facilitan la escritura de patrones comunes"
      ],
      "metadata": {
        "id": "bCyoguD2PwTl"
      }
    },
    {
      "cell_type": "code",
      "source": [
        "\"\"\"\n",
        "\\A: Coincide si los caracteres especificados están al comienzo de una cadena.\n",
        "\"\"\"\n",
        "texto = \"the sun \\nIn the sun\"\n",
        "numeros = re.findall(r\"\\Athe\", texto)\n",
        "print(numeros)"
      ],
      "metadata": {
        "colab": {
          "base_uri": "https://localhost:8080/"
        },
        "id": "uhpcpeZQQQyW",
        "outputId": "1220adce-6f81-4307-a990-6d11d523c208"
      },
      "execution_count": null,
      "outputs": [
        {
          "output_type": "stream",
          "name": "stdout",
          "text": [
            "['the']\n"
          ]
        }
      ]
    },
    {
      "cell_type": "code",
      "source": [
        "\"\"\"\n",
        "\\d: Se utiliza para coincidir con cualquier dígito decimal. Equivalente a [0-9]\n",
        "+: Indica que debe haber una o más ocurrencias del carácter anterior.\n",
        "\"\"\"\n",
        "texto = \"Este es un ejemplo con números 123 y otros 4567 Python 12abc3\"\n",
        "numeros = re.findall(r\"\\d+\", texto)\n",
        "print(numeros)"
      ],
      "metadata": {
        "colab": {
          "base_uri": "https://localhost:8080/"
        },
        "id": "Vt2KGFGk-rxc",
        "outputId": "43797744-47e4-4e14-dfc5-77828c3b750d"
      },
      "execution_count": null,
      "outputs": [
        {
          "output_type": "stream",
          "name": "stdout",
          "text": [
            "['123', '4567', '12', '3']\n"
          ]
        }
      ]
    },
    {
      "cell_type": "code",
      "source": [
        "\"\"\"\n",
        "\\D: Opuesto de \\d. Coincide con cualquier dígito no decimal. Equivalente a [^0-9]\n",
        "\"\"\"\n",
        "texto = \"1ab3450\"\n",
        "numeros = re.findall(r\"\\D\", texto)\n",
        "print(numeros)"
      ],
      "metadata": {
        "colab": {
          "base_uri": "https://localhost:8080/"
        },
        "id": "MjHdDqaySKg3",
        "outputId": "6f473d2e-4d5b-4a56-ab62-066d1fe63ef7"
      },
      "execution_count": null,
      "outputs": [
        {
          "output_type": "stream",
          "name": "stdout",
          "text": [
            "['a', 'b']\n"
          ]
        }
      ]
    },
    {
      "cell_type": "code",
      "source": [
        "\"\"\"\n",
        "\\b: Coincide si los caracteres especificados están al principio o al final de una palabra.\n",
        "\"\"\"\n",
        "texto = \"football afootball thefoo\"\n",
        "numeros = re.findall(r\"\\bfoo\", texto) #foo\\b\n",
        "print(numeros)"
      ],
      "metadata": {
        "colab": {
          "base_uri": "https://localhost:8080/"
        },
        "id": "QMQqWItPQ8hQ",
        "outputId": "f6bc0602-bc67-4d8c-b0f6-e6816f5c7a07"
      },
      "execution_count": null,
      "outputs": [
        {
          "output_type": "stream",
          "name": "stdout",
          "text": [
            "['foo']\n"
          ]
        }
      ]
    },
    {
      "cell_type": "code",
      "source": [
        "\"\"\"\n",
        "\\B: Opuesto de \\b. Coincide si los caracteres especificados no están al principio ni al final de una palabra.\n",
        "\"\"\"\n",
        "texto = \"football afootball thefoo\"\n",
        "numeros = re.findall(r\"\\Bfoo\", texto)\n",
        "print(numeros)"
      ],
      "metadata": {
        "colab": {
          "base_uri": "https://localhost:8080/"
        },
        "id": "aJXlaK6ER04e",
        "outputId": "582ea292-0059-4f3e-ccd7-50413f1a9fcc"
      },
      "execution_count": null,
      "outputs": [
        {
          "output_type": "stream",
          "name": "stdout",
          "text": [
            "['foo', 'foo']\n"
          ]
        }
      ]
    },
    {
      "cell_type": "code",
      "source": [
        "\"\"\"\n",
        "\\s: Coincide con una cadena que contiene cualquier espacio en blanco.\n",
        "\"\"\"\n",
        "texto = \"Python RegEx\" #PythonRegEx\n",
        "numeros = re.findall(r\"\\s\", texto)\n",
        "print(numeros)"
      ],
      "metadata": {
        "colab": {
          "base_uri": "https://localhost:8080/"
        },
        "id": "RVeffj8DSZ23",
        "outputId": "7954d97e-6a75-460f-c2ac-3785081ca681"
      },
      "execution_count": null,
      "outputs": [
        {
          "output_type": "stream",
          "name": "stdout",
          "text": [
            "[' ']\n"
          ]
        }
      ]
    },
    {
      "cell_type": "code",
      "source": [
        "\"\"\"\n",
        "\\w: Coincide con cualquier carácter alfanumérico (dígitos y letras).\n",
        "    Equivalente a [a-zA-Z0-9_].\n",
        "    El guión bajo _ también se considera un carácter alfanumérico.\n",
        "\"\"\"\n",
        "texto = \"12&:_;c %>!\"\n",
        "numeros = re.findall(r\"\\w\", texto)\n",
        "print(numeros)"
      ],
      "metadata": {
        "colab": {
          "base_uri": "https://localhost:8080/"
        },
        "id": "gALALcEnS4NG",
        "outputId": "218c4407-3d3b-4a88-8ebc-abdcd3c284d7"
      },
      "execution_count": null,
      "outputs": [
        {
          "output_type": "stream",
          "name": "stdout",
          "text": [
            "['1', '2', '_', 'c']\n"
          ]
        }
      ]
    },
    {
      "cell_type": "code",
      "source": [
        "\"\"\"\n",
        "\\W: Opuesto a \\w\n",
        "    Coincide con cualquier carácter no alfanumérico.\n",
        "    Equivalente a [^a-zA-Z0-9_].\n",
        "\"\"\"\n",
        "texto = \"12&:_;c %>!\"\n",
        "numeros = re.findall(r\"\\W\", texto)\n",
        "print(numeros)"
      ],
      "metadata": {
        "colab": {
          "base_uri": "https://localhost:8080/"
        },
        "id": "hqO7K8tpTRsG",
        "outputId": "7299bd4e-2b4a-44a9-b326-1c0783140a62"
      },
      "execution_count": null,
      "outputs": [
        {
          "output_type": "stream",
          "name": "stdout",
          "text": [
            "['&', ':', ';', ' ', '%', '>', '!']\n"
          ]
        }
      ]
    },
    {
      "cell_type": "code",
      "source": [
        "\"\"\"\n",
        "\\Z: Coincide si los caracteres especificados están al final de una cadena..\n",
        "\"\"\"\n",
        "texto = \"Me gusta Python\"\n",
        "numeros = re.findall(r\"Python\\Z\", texto)\n",
        "print(numeros)"
      ],
      "metadata": {
        "colab": {
          "base_uri": "https://localhost:8080/"
        },
        "id": "Q0zMTLgDTfiZ",
        "outputId": "06aba49d-fbc4-41a6-a93a-ef58e4893c0a"
      },
      "execution_count": null,
      "outputs": [
        {
          "output_type": "stream",
          "name": "stdout",
          "text": [
            "['Python']\n"
          ]
        }
      ]
    },
    {
      "cell_type": "markdown",
      "source": [
        "# Explorando más el módulo de expresiones regulares"
      ],
      "metadata": {
        "id": "vLwMW7XCW5bf"
      }
    },
    {
      "cell_type": "code",
      "source": [
        "\"\"\"\n",
        "El método re.findall() devuelve una lista de cadenas que contienen todas las coincidencias.\n",
        "\"\"\"\n",
        "texto = 'hello 12 hi 89. Howdy 34'\n",
        "patron = '\\d+'\n",
        "resultado = re.findall(patron, texto)\n",
        "print(resultado)"
      ],
      "metadata": {
        "colab": {
          "base_uri": "https://localhost:8080/"
        },
        "id": "BIEfj12QXBW-",
        "outputId": "3ad11c83-3282-4a59-8b81-9bebefa02223"
      },
      "execution_count": null,
      "outputs": [
        {
          "output_type": "stream",
          "name": "stdout",
          "text": [
            "['12', '89', '34']\n"
          ]
        }
      ]
    },
    {
      "cell_type": "code",
      "source": [
        "\"\"\"\n",
        "El método re.split divide la cadena donde hay una coincidencia y devuelve una lista de cadenas donde se produjeron las divisiones.\n",
        "\"\"\"\n",
        "texto = 'hello 12 hi 89. Howdy 34'\n",
        "patron = '\\d+'\n",
        "resultado = re.split(patron, texto)\n",
        "print(resultado)\n",
        "#Si no se encuentra el patrón, re.split() devuelve una lista que contiene la cadena original."
      ],
      "metadata": {
        "colab": {
          "base_uri": "https://localhost:8080/"
        },
        "id": "eX07XYujXR9X",
        "outputId": "71e1f55b-da59-43bd-99f1-22d9fdea0bc2"
      },
      "execution_count": null,
      "outputs": [
        {
          "output_type": "stream",
          "name": "stdout",
          "text": [
            "['hello ', ' hi ', '. Howdy ', '']\n"
          ]
        }
      ]
    },
    {
      "cell_type": "code",
      "source": [
        "\"\"\"\n",
        "El método re.sub(pattern, replace, string) devuelve una cadena donde las ocurrencias coincidentes se reemplazan con el contenido de la variable de reemplazo.\n",
        "\"\"\"\n",
        "\n",
        "texto = 'abc 12\\n de 23 \\n f45 6'\n",
        "patron = '\\s+' # coincide con todos los caracteres de espacio en blanco\n",
        "reemplazar = '' #cadena vacía\n",
        "resultado = re.sub(patron, reemplazar, texto)\n",
        "print(resultado)"
      ],
      "metadata": {
        "colab": {
          "base_uri": "https://localhost:8080/"
        },
        "id": "Rc0rHGdXXsxw",
        "outputId": "3d52ab09-96ec-476c-e8bf-072a7a3beefc"
      },
      "execution_count": null,
      "outputs": [
        {
          "output_type": "stream",
          "name": "stdout",
          "text": [
            "abc12de23f456\n"
          ]
        }
      ]
    },
    {
      "cell_type": "code",
      "source": [
        "\"\"\"\n",
        "El método re.search() acepta dos argumentos: un patrón y una cadena.\n",
        "El método busca la primera ubicación donde el patrón RegEx produce una coincidencia con la cadena.\n",
        "Si la búsqueda es exitosa, re.search() devuelve un objeto coincidente; si no, devuelve None.\n",
        "\"\"\"\n",
        "\n",
        "texto = \"Python is fun\"\n",
        "x = re.search('\\APython', texto) #revisa si Python está al principio\n",
        "print(x)\n",
        "if x:\n",
        "  print(\"El patrón se encuentra en el texto\")\n",
        "else:\n",
        "  print(\"Patrón no encontrado\")"
      ],
      "metadata": {
        "colab": {
          "base_uri": "https://localhost:8080/"
        },
        "id": "BmC01FHsYr1g",
        "outputId": "8d0f6ec8-6280-4cb7-c460-a217f4d2dffe"
      },
      "execution_count": null,
      "outputs": [
        {
          "output_type": "stream",
          "name": "stdout",
          "text": [
            "<re.Match object; span=(0, 6), match='Python'>\n",
            "El patrón se encuentra en el texto\n"
          ]
        }
      ]
    },
    {
      "cell_type": "markdown",
      "source": [
        "# MatchObject\n",
        "\n",
        "Representa un patrón de coincidencia, que se obtiene cada vez que se ejecuta una operación"
      ],
      "metadata": {
        "id": "cr-dxGH0ZdxN"
      }
    },
    {
      "cell_type": "code",
      "source": [
        "\"\"\"\n",
        "El método group() devuelve la parte de la cadena donde hay una coincidencia.\n",
        "\"\"\"\n",
        "texto = '2102 1111'\n",
        "patron = '(\\d{3}) (\\d{2})' #Número de tres dígitos seguido de un espacio seguido de un número de dos dígitos\n",
        "x = re.search(patron, texto) #La variable de coincidencia contiene un objeto Match.\n",
        "print(x)\n",
        "if x:\n",
        "  print(\"El patrón se encuentra en el texto\")\n",
        "else:\n",
        "  print(\"Patrón no encontrado\")"
      ],
      "metadata": {
        "colab": {
          "base_uri": "https://localhost:8080/"
        },
        "id": "RwuAkq4aZdZI",
        "outputId": "10bda76d-474b-4eb3-afe7-0741883b69a2"
      },
      "execution_count": null,
      "outputs": [
        {
          "output_type": "stream",
          "name": "stdout",
          "text": [
            "<re.Match object; span=(1, 7), match='102 11'>\n",
            "El patrón se encuentra en el texto\n"
          ]
        }
      ]
    },
    {
      "cell_type": "code",
      "source": [
        "\"\"\"\n",
        "La función start() devuelve el índice inicial de la subcadena coincidente.\n",
        "De forma similar, end() devuelve el índice final de la subcadena coincidente.\n",
        "La función span() devuelve una tupla que contiene el índice inicial y final de la parte coincidente.\n",
        "\"\"\""
      ],
      "metadata": {
        "id": "bXdeBdHTaq8X"
      },
      "execution_count": null,
      "outputs": []
    },
    {
      "cell_type": "code",
      "source": [
        "print(x.start())\n",
        "print(x.end())\n",
        "print(x.span())"
      ],
      "metadata": {
        "colab": {
          "base_uri": "https://localhost:8080/"
        },
        "id": "6Zwck3D_avte",
        "outputId": "eb1ab0f7-397a-4c74-b00b-6e7305aee7b5"
      },
      "execution_count": null,
      "outputs": [
        {
          "output_type": "stream",
          "name": "stdout",
          "text": [
            "1\n",
            "7\n",
            "(1, 7)\n"
          ]
        }
      ]
    },
    {
      "cell_type": "code",
      "source": [
        "\"\"\"\n",
        "El atributo re de un objeto devuelve la expresión regular.\n",
        "De forma similar, el atributo string devuelve la cadena pasada.\n",
        "\"\"\"\n",
        "\n",
        "print(x.re)\n",
        "print(x.string)"
      ],
      "metadata": {
        "colab": {
          "base_uri": "https://localhost:8080/"
        },
        "id": "9knhO0PLbFhI",
        "outputId": "5b9afe57-5db4-4bc9-ac80-a584eac1c420"
      },
      "execution_count": null,
      "outputs": [
        {
          "output_type": "stream",
          "name": "stdout",
          "text": [
            "re.compile('(\\\\d{3}) (\\\\d{2})')\n",
            "2102 1111\n"
          ]
        }
      ]
    }
  ]
}