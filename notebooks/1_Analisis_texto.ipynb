{
  "nbformat": 4,
  "nbformat_minor": 0,
  "metadata": {
    "colab": {
      "provenance": [],
      "authorship_tag": "ABX9TyNVNuyL/jR6INc7qtjgYRaD",
      "include_colab_link": true
    },
    "kernelspec": {
      "name": "python3",
      "display_name": "Python 3"
    },
    "language_info": {
      "name": "python"
    }
  },
  "cells": [
    {
      "cell_type": "markdown",
      "metadata": {
        "id": "view-in-github",
        "colab_type": "text"
      },
      "source": [
        "<a href=\"https://colab.research.google.com/github/blancavazquez/PLN/blob/main/notebooks/1_Analisis_texto.ipynb\" target=\"_parent\"><img src=\"https://colab.research.google.com/assets/colab-badge.svg\" alt=\"Open In Colab\"/></a>"
      ]
    },
    {
      "cell_type": "markdown",
      "source": [
        "# Operaciones básicas con texto"
      ],
      "metadata": {
        "id": "RrqIeXZ2XVQC"
      }
    },
    {
      "cell_type": "markdown",
      "source": [
        "El objetivo de esta libreta es estudiar y practicar el análisis básicos de texto con Python. Este material está inspirado de la materia de \"Minería de texto\" impartido por la Dra. Helena Gómez.\n"
      ],
      "metadata": {
        "id": "aw6_3sqbWvSF"
      }
    },
    {
      "cell_type": "code",
      "execution_count": null,
      "metadata": {
        "colab": {
          "base_uri": "https://localhost:8080/"
        },
        "id": "BxRZ1iT3WqLV",
        "outputId": "5a5c0cbc-d4f6-44df-9d18-405b37f4864b"
      },
      "outputs": [
        {
          "output_type": "stream",
          "name": "stdout",
          "text": [
            "Tamaño: 74\n"
          ]
        }
      ],
      "source": [
        "#Identificado el tamaño de un texto\n",
        "sentencia_1 = \"La única manera de hacer un gran trabajo es amar lo que haces- Steve Jobs.\"\n",
        "print(\"Tamaño:\", len(sentencia_1))"
      ]
    },
    {
      "cell_type": "code",
      "source": [
        "#Diviendo basado en espacios\n",
        "sentencia_2 = sentencia_1.split(' ')\n",
        "print(\"Tamaño:\", len(sentencia_2))"
      ],
      "metadata": {
        "colab": {
          "base_uri": "https://localhost:8080/"
        },
        "id": "4UoP9h0GZPBF",
        "outputId": "8d575009-7bf4-48fa-d222-fb2d208798a6"
      },
      "execution_count": null,
      "outputs": [
        {
          "output_type": "stream",
          "name": "stdout",
          "text": [
            "Tamaño: 15\n"
          ]
        }
      ]
    },
    {
      "cell_type": "code",
      "source": [
        "sentencia_2"
      ],
      "metadata": {
        "colab": {
          "base_uri": "https://localhost:8080/"
        },
        "id": "82VOxXySZlRp",
        "outputId": "bf6d73e6-3b03-4d00-8e8b-ea636bab8219"
      },
      "execution_count": null,
      "outputs": [
        {
          "output_type": "execute_result",
          "data": {
            "text/plain": [
              "['La',\n",
              " 'única',\n",
              " 'manera',\n",
              " 'de',\n",
              " 'hacer',\n",
              " 'un',\n",
              " 'gran',\n",
              " 'trabajo',\n",
              " 'es',\n",
              " 'amar',\n",
              " 'lo',\n",
              " 'que',\n",
              " 'haces-',\n",
              " 'Steve',\n",
              " 'Jobs.']"
            ]
          },
          "metadata": {},
          "execution_count": 19
        }
      ]
    },
    {
      "cell_type": "code",
      "source": [
        "# Buscando palabras\n",
        "#Palabras que tienen más de 3 letras\n",
        "[w for w in sentencia_2 if len(w) > 3]"
      ],
      "metadata": {
        "colab": {
          "base_uri": "https://localhost:8080/"
        },
        "id": "wautTxe3ZuEH",
        "outputId": "b5176f95-04a4-4d04-8f98-9114235b710f"
      },
      "execution_count": null,
      "outputs": [
        {
          "output_type": "execute_result",
          "data": {
            "text/plain": [
              "['única',\n",
              " 'manera',\n",
              " 'hacer',\n",
              " 'gran',\n",
              " 'trabajo',\n",
              " 'amar',\n",
              " 'haces-',\n",
              " 'Steve',\n",
              " 'Jobs.']"
            ]
          },
          "metadata": {},
          "execution_count": 20
        }
      ]
    },
    {
      "cell_type": "code",
      "source": [
        "#Palabras con la primera letra en mayúsculas\n",
        "[w for w in sentencia_2 if w.istitle()]"
      ],
      "metadata": {
        "colab": {
          "base_uri": "https://localhost:8080/"
        },
        "id": "CMmbMENPbQ_O",
        "outputId": "3bdae6ed-5131-42eb-8550-9feb38f13909"
      },
      "execution_count": null,
      "outputs": [
        {
          "output_type": "execute_result",
          "data": {
            "text/plain": [
              "['La', 'Steve', 'Jobs.']"
            ]
          },
          "metadata": {},
          "execution_count": 21
        }
      ]
    },
    {
      "cell_type": "code",
      "source": [
        "#Palabras que terminan en 'o'\n",
        "[w for w in sentencia_2 if w.endswith('o')]"
      ],
      "metadata": {
        "colab": {
          "base_uri": "https://localhost:8080/"
        },
        "id": "d6rBLr-obYBu",
        "outputId": "451b9053-23af-4a22-d065-3ebd76151c34"
      },
      "execution_count": null,
      "outputs": [
        {
          "output_type": "execute_result",
          "data": {
            "text/plain": [
              "['trabajo', 'lo']"
            ]
          },
          "metadata": {},
          "execution_count": 22
        }
      ]
    },
    {
      "cell_type": "code",
      "source": [
        "#Eliminando palabras repetidas\n",
        "sentencia_3 = \"camarón caramelo caramelo camarón\"\n",
        "print(\"Tamaño:\", len(sentencia_3))"
      ],
      "metadata": {
        "colab": {
          "base_uri": "https://localhost:8080/"
        },
        "id": "LBlt4aBAb0Ly",
        "outputId": "396d146b-aab0-458b-cc66-63e1d0d16b56"
      },
      "execution_count": null,
      "outputs": [
        {
          "output_type": "stream",
          "name": "stdout",
          "text": [
            "Tamaño: 33\n"
          ]
        }
      ]
    },
    {
      "cell_type": "code",
      "source": [
        "#Diviendo basado en espacios\n",
        "sentencia_4 = sentencia_3.split(' ')\n",
        "sentencia_4"
      ],
      "metadata": {
        "colab": {
          "base_uri": "https://localhost:8080/"
        },
        "id": "hCy4_3MJcRuW",
        "outputId": "77d1ec3e-d37f-4fe6-a87b-8f231b832fc6"
      },
      "execution_count": null,
      "outputs": [
        {
          "output_type": "execute_result",
          "data": {
            "text/plain": [
              "['camarón', 'caramelo', 'caramelo', 'camarón']"
            ]
          },
          "metadata": {},
          "execution_count": 24
        }
      ]
    },
    {
      "cell_type": "code",
      "source": [
        "#Número de palabras únicas\n",
        "print(len(set(sentencia_4)))"
      ],
      "metadata": {
        "colab": {
          "base_uri": "https://localhost:8080/"
        },
        "id": "TrJUV-PScZ82",
        "outputId": "44f94b55-6783-4abc-b3ab-9bcff4f82068"
      },
      "execution_count": null,
      "outputs": [
        {
          "output_type": "stream",
          "name": "stdout",
          "text": [
            "2\n"
          ]
        }
      ]
    },
    {
      "cell_type": "code",
      "source": [
        "set(sentencia_4)"
      ],
      "metadata": {
        "colab": {
          "base_uri": "https://localhost:8080/"
        },
        "id": "IIFmMXjvclh0",
        "outputId": "860a3302-a20a-4e38-eff8-9d8fcfd4283f"
      },
      "execution_count": null,
      "outputs": [
        {
          "output_type": "execute_result",
          "data": {
            "text/plain": [
              "{'camarón', 'caramelo'}"
            ]
          },
          "metadata": {},
          "execution_count": 26
        }
      ]
    },
    {
      "cell_type": "markdown",
      "source": [
        "### Operaciones con caracteres"
      ],
      "metadata": {
        "id": "S__7eql-dcD7"
      }
    },
    {
      "cell_type": "code",
      "source": [
        "sentencia_5 = 'machine-learning'\n",
        "sentencia_6 = sentencia_5.split('-')\n",
        "sentencia_6"
      ],
      "metadata": {
        "colab": {
          "base_uri": "https://localhost:8080/"
        },
        "id": "U1TbDXq_cxKU",
        "outputId": "5434678c-c2ec-4211-8854-57c5979d2171"
      },
      "execution_count": null,
      "outputs": [
        {
          "output_type": "execute_result",
          "data": {
            "text/plain": [
              "['machine', 'learning']"
            ]
          },
          "metadata": {},
          "execution_count": 27
        }
      ]
    },
    {
      "cell_type": "code",
      "source": [
        "'-'.join(sentencia_6)"
      ],
      "metadata": {
        "colab": {
          "base_uri": "https://localhost:8080/",
          "height": 35
        },
        "id": "WD0m9qusdtOz",
        "outputId": "cec5a729-850c-4cb8-cd27-2b23c2ee7f97"
      },
      "execution_count": null,
      "outputs": [
        {
          "output_type": "execute_result",
          "data": {
            "text/plain": [
              "'machine-learning'"
            ],
            "application/vnd.google.colaboratory.intrinsic+json": {
              "type": "string"
            }
          },
          "metadata": {},
          "execution_count": 28
        }
      ]
    },
    {
      "cell_type": "code",
      "source": [
        "sentencia_7='         Erre con erre guitarra, erre con erre barril, qué rápido ruedan las ruedas del ferrocarril.        '\n",
        "sentencia_7"
      ],
      "metadata": {
        "colab": {
          "base_uri": "https://localhost:8080/",
          "height": 35
        },
        "id": "SrmIzRC-d2ql",
        "outputId": "fa130a4e-6d5a-4380-e363-c2464d93daa8"
      },
      "execution_count": null,
      "outputs": [
        {
          "output_type": "execute_result",
          "data": {
            "text/plain": [
              "'         Erre con erre guitarra, erre con erre barril, qué rápido ruedan las ruedas del ferrocarril.        '"
            ],
            "application/vnd.google.colaboratory.intrinsic+json": {
              "type": "string"
            }
          },
          "metadata": {},
          "execution_count": 30
        }
      ]
    },
    {
      "cell_type": "code",
      "source": [
        "sentencia_7.split(' ')"
      ],
      "metadata": {
        "colab": {
          "base_uri": "https://localhost:8080/"
        },
        "id": "Sn1u1MDxeXWG",
        "outputId": "44d38b02-7d38-4c48-b45a-0c19b5a553bb"
      },
      "execution_count": null,
      "outputs": [
        {
          "output_type": "execute_result",
          "data": {
            "text/plain": [
              "['',\n",
              " '',\n",
              " '',\n",
              " '',\n",
              " '',\n",
              " '',\n",
              " '',\n",
              " '',\n",
              " '',\n",
              " 'Erre',\n",
              " 'con',\n",
              " 'erre',\n",
              " 'guitarra,',\n",
              " 'erre',\n",
              " 'con',\n",
              " 'erre',\n",
              " 'barril,',\n",
              " 'qué',\n",
              " 'rápido',\n",
              " 'ruedan',\n",
              " 'las',\n",
              " 'ruedas',\n",
              " 'del',\n",
              " 'ferrocarril.',\n",
              " '',\n",
              " '',\n",
              " '',\n",
              " '',\n",
              " '',\n",
              " '',\n",
              " '',\n",
              " '']"
            ]
          },
          "metadata": {},
          "execution_count": 31
        }
      ]
    },
    {
      "cell_type": "code",
      "source": [
        "sentencia_8 = sentencia_7.strip()\n",
        "sentencia_8"
      ],
      "metadata": {
        "colab": {
          "base_uri": "https://localhost:8080/",
          "height": 35
        },
        "id": "IcmXywvqebsk",
        "outputId": "f05ebc5d-d5cf-4b10-ee6a-9cc23dde4500"
      },
      "execution_count": null,
      "outputs": [
        {
          "output_type": "execute_result",
          "data": {
            "text/plain": [
              "'Erre con erre guitarra, erre con erre barril, qué rápido ruedan las ruedas del ferrocarril.'"
            ],
            "application/vnd.google.colaboratory.intrinsic+json": {
              "type": "string"
            }
          },
          "metadata": {},
          "execution_count": 32
        }
      ]
    },
    {
      "cell_type": "code",
      "source": [
        "sentencia_7.replace('a', 'A')\n",
        "sentencia_7"
      ],
      "metadata": {
        "colab": {
          "base_uri": "https://localhost:8080/",
          "height": 35
        },
        "id": "bFA6pUG4ep3C",
        "outputId": "876f4cb7-ca08-4b1c-a11e-4aa3791e1517"
      },
      "execution_count": null,
      "outputs": [
        {
          "output_type": "execute_result",
          "data": {
            "text/plain": [
              "'         Erre con erre guitarra, erre con erre barril, qué rápido ruedan las ruedas del ferrocarril.        '"
            ],
            "application/vnd.google.colaboratory.intrinsic+json": {
              "type": "string"
            }
          },
          "metadata": {},
          "execution_count": 33
        }
      ]
    },
    {
      "cell_type": "markdown",
      "source": [
        "### Funciones de comparación\n",
        "\n",
        "\n",
        "\n",
        "*   s.startswith(t)\n",
        "*   s.endswith(t)\n",
        "* t in s\n",
        "* s.isupper(); s.islower(); s.isLtle()\n",
        "* s.isalpha(); s.isdigit(); s.isalnum()"
      ],
      "metadata": {
        "id": "iK8s9uvXcxqE"
      }
    },
    {
      "cell_type": "markdown",
      "source": [
        "### Operaciones de cadena\n",
        "* s.lower(); s.upper(); s.Ltlecase()\n",
        "* s.split(t)\n",
        "* s.splitlines()\n",
        "* s.join(t)\n",
        "* s.strip(); s.rstrip()\n",
        "* s.find(t); s.rfind(t)\n",
        "* s.replace(u, v)\n"
      ],
      "metadata": {
        "id": "NSHZUf_ddLVN"
      }
    }
  ]
}